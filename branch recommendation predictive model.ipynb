{
 "cells": [
  {
   "cell_type": "code",
   "execution_count": 1,
   "id": "f7c0ab8b",
   "metadata": {},
   "outputs": [],
   "source": [
    "import numpy as np\n",
    "import pandas as pd"
   ]
  },
  {
   "cell_type": "code",
   "execution_count": 2,
   "id": "edb59bfc",
   "metadata": {},
   "outputs": [],
   "source": [
    "skills=pd.read_csv(\"skills.csv\")"
   ]
  },
  {
   "cell_type": "code",
   "execution_count": 3,
   "id": "07f2747c",
   "metadata": {},
   "outputs": [
    {
     "data": {
      "text/html": [
       "<div>\n",
       "<style scoped>\n",
       "    .dataframe tbody tr th:only-of-type {\n",
       "        vertical-align: middle;\n",
       "    }\n",
       "\n",
       "    .dataframe tbody tr th {\n",
       "        vertical-align: top;\n",
       "    }\n",
       "\n",
       "    .dataframe thead th {\n",
       "        text-align: right;\n",
       "    }\n",
       "</style>\n",
       "<table border=\"1\" class=\"dataframe\">\n",
       "  <thead>\n",
       "    <tr style=\"text-align: right;\">\n",
       "      <th></th>\n",
       "      <th>roll_no</th>\n",
       "      <th>names</th>\n",
       "      <th>skllis</th>\n",
       "    </tr>\n",
       "  </thead>\n",
       "  <tbody>\n",
       "    <tr>\n",
       "      <th>0</th>\n",
       "      <td>1</td>\n",
       "      <td>Sachin Bhaskar Patil</td>\n",
       "      <td>Communication,Data Analysis,Python,SQL,R Langu...</td>\n",
       "    </tr>\n",
       "    <tr>\n",
       "      <th>1</th>\n",
       "      <td>2</td>\n",
       "      <td>Swapnil Chotu More</td>\n",
       "      <td>Adaptability,Coding,C,C++,Java,Communication,C...</td>\n",
       "    </tr>\n",
       "    <tr>\n",
       "      <th>2</th>\n",
       "      <td>3</td>\n",
       "      <td>Parag Mohan Patil</td>\n",
       "      <td>Clearance,Hardware,Analog,Test Equipment,PCB, ...</td>\n",
       "    </tr>\n",
       "    <tr>\n",
       "      <th>3</th>\n",
       "      <td>4</td>\n",
       "      <td>Narendra Asaram Patil</td>\n",
       "      <td>Technical Skills,Project Management,Calculatio...</td>\n",
       "    </tr>\n",
       "    <tr>\n",
       "      <th>4</th>\n",
       "      <td>5</td>\n",
       "      <td>Amol Sanjay Mahale</td>\n",
       "      <td>Adaptability,Coding,C,Communication,Data Analy...</td>\n",
       "    </tr>\n",
       "    <tr>\n",
       "      <th>5</th>\n",
       "      <td>6</td>\n",
       "      <td>Computer Engineering</td>\n",
       "      <td>Adaptability,Coding,C,C++,Java,Communication,C...</td>\n",
       "    </tr>\n",
       "    <tr>\n",
       "      <th>6</th>\n",
       "      <td>7</td>\n",
       "      <td>Data science And Engineering</td>\n",
       "      <td>Adaptability,Coding,C,Communication,Data Analy...</td>\n",
       "    </tr>\n",
       "    <tr>\n",
       "      <th>7</th>\n",
       "      <td>8</td>\n",
       "      <td>Civil Engineering</td>\n",
       "      <td>Technical Skills,Project Management,Calculatio...</td>\n",
       "    </tr>\n",
       "    <tr>\n",
       "      <th>8</th>\n",
       "      <td>9</td>\n",
       "      <td>E&amp;TC Engineering</td>\n",
       "      <td>Clearance,Hardware,Analog,Test Equipment,PCB, ...</td>\n",
       "    </tr>\n",
       "  </tbody>\n",
       "</table>\n",
       "</div>"
      ],
      "text/plain": [
       "   roll_no                         names  \\\n",
       "0        1          Sachin Bhaskar Patil   \n",
       "1        2            Swapnil Chotu More   \n",
       "2        3             Parag Mohan Patil   \n",
       "3        4         Narendra Asaram Patil   \n",
       "4        5            Amol Sanjay Mahale   \n",
       "5        6          Computer Engineering   \n",
       "6        7  Data science And Engineering   \n",
       "7        8             Civil Engineering   \n",
       "8        9              E&TC Engineering   \n",
       "\n",
       "                                              skllis  \n",
       "0  Communication,Data Analysis,Python,SQL,R Langu...  \n",
       "1  Adaptability,Coding,C,C++,Java,Communication,C...  \n",
       "2  Clearance,Hardware,Analog,Test Equipment,PCB, ...  \n",
       "3  Technical Skills,Project Management,Calculatio...  \n",
       "4  Adaptability,Coding,C,Communication,Data Analy...  \n",
       "5  Adaptability,Coding,C,C++,Java,Communication,C...  \n",
       "6  Adaptability,Coding,C,Communication,Data Analy...  \n",
       "7  Technical Skills,Project Management,Calculatio...  \n",
       "8  Clearance,Hardware,Analog,Test Equipment,PCB, ...  "
      ]
     },
     "execution_count": 3,
     "metadata": {},
     "output_type": "execute_result"
    }
   ],
   "source": [
    "skills\n"
   ]
  },
  {
   "cell_type": "code",
   "execution_count": 4,
   "id": "f80fada0",
   "metadata": {},
   "outputs": [],
   "source": [
    "skills.dropna(inplace=True)"
   ]
  },
  {
   "cell_type": "code",
   "execution_count": 5,
   "id": "50fdabf5",
   "metadata": {},
   "outputs": [
    {
     "data": {
      "text/html": [
       "<div>\n",
       "<style scoped>\n",
       "    .dataframe tbody tr th:only-of-type {\n",
       "        vertical-align: middle;\n",
       "    }\n",
       "\n",
       "    .dataframe tbody tr th {\n",
       "        vertical-align: top;\n",
       "    }\n",
       "\n",
       "    .dataframe thead th {\n",
       "        text-align: right;\n",
       "    }\n",
       "</style>\n",
       "<table border=\"1\" class=\"dataframe\">\n",
       "  <thead>\n",
       "    <tr style=\"text-align: right;\">\n",
       "      <th></th>\n",
       "      <th>roll_no</th>\n",
       "      <th>names</th>\n",
       "      <th>skllis</th>\n",
       "    </tr>\n",
       "  </thead>\n",
       "  <tbody>\n",
       "    <tr>\n",
       "      <th>0</th>\n",
       "      <td>1</td>\n",
       "      <td>Sachin Bhaskar Patil</td>\n",
       "      <td>Communication,Data Analysis,Python,SQL,R Langu...</td>\n",
       "    </tr>\n",
       "    <tr>\n",
       "      <th>1</th>\n",
       "      <td>2</td>\n",
       "      <td>Swapnil Chotu More</td>\n",
       "      <td>Adaptability,Coding,C,C++,Java,Communication,C...</td>\n",
       "    </tr>\n",
       "    <tr>\n",
       "      <th>2</th>\n",
       "      <td>3</td>\n",
       "      <td>Parag Mohan Patil</td>\n",
       "      <td>Clearance,Hardware,Analog,Test Equipment,PCB, ...</td>\n",
       "    </tr>\n",
       "    <tr>\n",
       "      <th>3</th>\n",
       "      <td>4</td>\n",
       "      <td>Narendra Asaram Patil</td>\n",
       "      <td>Technical Skills,Project Management,Calculatio...</td>\n",
       "    </tr>\n",
       "    <tr>\n",
       "      <th>4</th>\n",
       "      <td>5</td>\n",
       "      <td>Amol Sanjay Mahale</td>\n",
       "      <td>Adaptability,Coding,C,Communication,Data Analy...</td>\n",
       "    </tr>\n",
       "    <tr>\n",
       "      <th>5</th>\n",
       "      <td>6</td>\n",
       "      <td>Computer Engineering</td>\n",
       "      <td>Adaptability,Coding,C,C++,Java,Communication,C...</td>\n",
       "    </tr>\n",
       "    <tr>\n",
       "      <th>6</th>\n",
       "      <td>7</td>\n",
       "      <td>Data science And Engineering</td>\n",
       "      <td>Adaptability,Coding,C,Communication,Data Analy...</td>\n",
       "    </tr>\n",
       "    <tr>\n",
       "      <th>7</th>\n",
       "      <td>8</td>\n",
       "      <td>Civil Engineering</td>\n",
       "      <td>Technical Skills,Project Management,Calculatio...</td>\n",
       "    </tr>\n",
       "    <tr>\n",
       "      <th>8</th>\n",
       "      <td>9</td>\n",
       "      <td>E&amp;TC Engineering</td>\n",
       "      <td>Clearance,Hardware,Analog,Test Equipment,PCB, ...</td>\n",
       "    </tr>\n",
       "  </tbody>\n",
       "</table>\n",
       "</div>"
      ],
      "text/plain": [
       "   roll_no                         names  \\\n",
       "0        1          Sachin Bhaskar Patil   \n",
       "1        2            Swapnil Chotu More   \n",
       "2        3             Parag Mohan Patil   \n",
       "3        4         Narendra Asaram Patil   \n",
       "4        5            Amol Sanjay Mahale   \n",
       "5        6          Computer Engineering   \n",
       "6        7  Data science And Engineering   \n",
       "7        8             Civil Engineering   \n",
       "8        9              E&TC Engineering   \n",
       "\n",
       "                                              skllis  \n",
       "0  Communication,Data Analysis,Python,SQL,R Langu...  \n",
       "1  Adaptability,Coding,C,C++,Java,Communication,C...  \n",
       "2  Clearance,Hardware,Analog,Test Equipment,PCB, ...  \n",
       "3  Technical Skills,Project Management,Calculatio...  \n",
       "4  Adaptability,Coding,C,Communication,Data Analy...  \n",
       "5  Adaptability,Coding,C,C++,Java,Communication,C...  \n",
       "6  Adaptability,Coding,C,Communication,Data Analy...  \n",
       "7  Technical Skills,Project Management,Calculatio...  \n",
       "8  Clearance,Hardware,Analog,Test Equipment,PCB, ...  "
      ]
     },
     "execution_count": 5,
     "metadata": {},
     "output_type": "execute_result"
    }
   ],
   "source": [
    "skills"
   ]
  },
  {
   "cell_type": "code",
   "execution_count": 6,
   "id": "53aa611a",
   "metadata": {},
   "outputs": [],
   "source": [
    "u=skills.loc[(skills[\"roll_no\"]==6)]\n",
    "p=skills.loc[(skills[\"roll_no\"]==7)]\n",
    "r=skills.loc[(skills[\"roll_no\"]==8)]\n",
    "t=skills.loc[(skills[\"roll_no\"]==9)]\n"
   ]
  },
  {
   "cell_type": "code",
   "execution_count": 7,
   "id": "a3ad3d4c",
   "metadata": {},
   "outputs": [
    {
     "name": "stdout",
     "output_type": "stream",
     "text": [
      "enter a roll no: 1\n"
     ]
    }
   ],
   "source": [
    "n=int(input(\"enter a roll no: \"))\n",
    "if(n<=5):\n",
    "    c=skills.loc[(skills[\"roll_no\"]==n)]\n",
    "else:\n",
    "    print(\"please enter valid a roll no\")"
   ]
  },
  {
   "cell_type": "code",
   "execution_count": 8,
   "id": "17ba92db",
   "metadata": {},
   "outputs": [
    {
     "data": {
      "text/html": [
       "<div>\n",
       "<style scoped>\n",
       "    .dataframe tbody tr th:only-of-type {\n",
       "        vertical-align: middle;\n",
       "    }\n",
       "\n",
       "    .dataframe tbody tr th {\n",
       "        vertical-align: top;\n",
       "    }\n",
       "\n",
       "    .dataframe thead th {\n",
       "        text-align: right;\n",
       "    }\n",
       "</style>\n",
       "<table border=\"1\" class=\"dataframe\">\n",
       "  <thead>\n",
       "    <tr style=\"text-align: right;\">\n",
       "      <th></th>\n",
       "      <th>roll_no</th>\n",
       "      <th>names</th>\n",
       "      <th>skllis</th>\n",
       "    </tr>\n",
       "  </thead>\n",
       "  <tbody>\n",
       "    <tr>\n",
       "      <th>0</th>\n",
       "      <td>1</td>\n",
       "      <td>Sachin Bhaskar Patil</td>\n",
       "      <td>Communication,Data Analysis,Python,SQL,R Langu...</td>\n",
       "    </tr>\n",
       "    <tr>\n",
       "      <th>5</th>\n",
       "      <td>6</td>\n",
       "      <td>Computer Engineering</td>\n",
       "      <td>Adaptability,Coding,C,C++,Java,Communication,C...</td>\n",
       "    </tr>\n",
       "    <tr>\n",
       "      <th>6</th>\n",
       "      <td>7</td>\n",
       "      <td>Data science And Engineering</td>\n",
       "      <td>Adaptability,Coding,C,Communication,Data Analy...</td>\n",
       "    </tr>\n",
       "    <tr>\n",
       "      <th>7</th>\n",
       "      <td>8</td>\n",
       "      <td>Civil Engineering</td>\n",
       "      <td>Technical Skills,Project Management,Calculatio...</td>\n",
       "    </tr>\n",
       "    <tr>\n",
       "      <th>8</th>\n",
       "      <td>9</td>\n",
       "      <td>E&amp;TC Engineering</td>\n",
       "      <td>Clearance,Hardware,Analog,Test Equipment,PCB, ...</td>\n",
       "    </tr>\n",
       "  </tbody>\n",
       "</table>\n",
       "</div>"
      ],
      "text/plain": [
       "   roll_no                         names  \\\n",
       "0        1          Sachin Bhaskar Patil   \n",
       "5        6          Computer Engineering   \n",
       "6        7  Data science And Engineering   \n",
       "7        8             Civil Engineering   \n",
       "8        9              E&TC Engineering   \n",
       "\n",
       "                                              skllis  \n",
       "0  Communication,Data Analysis,Python,SQL,R Langu...  \n",
       "5  Adaptability,Coding,C,C++,Java,Communication,C...  \n",
       "6  Adaptability,Coding,C,Communication,Data Analy...  \n",
       "7  Technical Skills,Project Management,Calculatio...  \n",
       "8  Clearance,Hardware,Analog,Test Equipment,PCB, ...  "
      ]
     },
     "execution_count": 8,
     "metadata": {},
     "output_type": "execute_result"
    }
   ],
   "source": [
    "skills=pd.concat([c,u,p,r,t])\n",
    "skills\n"
   ]
  },
  {
   "cell_type": "code",
   "execution_count": 9,
   "id": "0b0ef094",
   "metadata": {},
   "outputs": [
    {
     "data": {
      "text/html": [
       "<div>\n",
       "<style scoped>\n",
       "    .dataframe tbody tr th:only-of-type {\n",
       "        vertical-align: middle;\n",
       "    }\n",
       "\n",
       "    .dataframe tbody tr th {\n",
       "        vertical-align: top;\n",
       "    }\n",
       "\n",
       "    .dataframe thead th {\n",
       "        text-align: right;\n",
       "    }\n",
       "</style>\n",
       "<table border=\"1\" class=\"dataframe\">\n",
       "  <thead>\n",
       "    <tr style=\"text-align: right;\">\n",
       "      <th></th>\n",
       "      <th>roll_no</th>\n",
       "      <th>names</th>\n",
       "      <th>skllis</th>\n",
       "    </tr>\n",
       "  </thead>\n",
       "  <tbody>\n",
       "    <tr>\n",
       "      <th>0</th>\n",
       "      <td>1</td>\n",
       "      <td>Sachin Bhaskar Patil</td>\n",
       "      <td>Communication,Data Analysis,Python,SQL,R Langu...</td>\n",
       "    </tr>\n",
       "    <tr>\n",
       "      <th>1</th>\n",
       "      <td>6</td>\n",
       "      <td>Computer Engineering</td>\n",
       "      <td>Adaptability,Coding,C,C++,Java,Communication,C...</td>\n",
       "    </tr>\n",
       "    <tr>\n",
       "      <th>2</th>\n",
       "      <td>7</td>\n",
       "      <td>Data science And Engineering</td>\n",
       "      <td>Adaptability,Coding,C,Communication,Data Analy...</td>\n",
       "    </tr>\n",
       "    <tr>\n",
       "      <th>3</th>\n",
       "      <td>8</td>\n",
       "      <td>Civil Engineering</td>\n",
       "      <td>Technical Skills,Project Management,Calculatio...</td>\n",
       "    </tr>\n",
       "    <tr>\n",
       "      <th>4</th>\n",
       "      <td>9</td>\n",
       "      <td>E&amp;TC Engineering</td>\n",
       "      <td>Clearance,Hardware,Analog,Test Equipment,PCB, ...</td>\n",
       "    </tr>\n",
       "  </tbody>\n",
       "</table>\n",
       "</div>"
      ],
      "text/plain": [
       "   roll_no                         names  \\\n",
       "0        1          Sachin Bhaskar Patil   \n",
       "1        6          Computer Engineering   \n",
       "2        7  Data science And Engineering   \n",
       "3        8             Civil Engineering   \n",
       "4        9              E&TC Engineering   \n",
       "\n",
       "                                              skllis  \n",
       "0  Communication,Data Analysis,Python,SQL,R Langu...  \n",
       "1  Adaptability,Coding,C,C++,Java,Communication,C...  \n",
       "2  Adaptability,Coding,C,Communication,Data Analy...  \n",
       "3  Technical Skills,Project Management,Calculatio...  \n",
       "4  Clearance,Hardware,Analog,Test Equipment,PCB, ...  "
      ]
     },
     "execution_count": 9,
     "metadata": {},
     "output_type": "execute_result"
    }
   ],
   "source": [
    "skills.reset_index(inplace=True)\n",
    "skills.drop(skills.columns[0],axis=1, inplace=True)\n",
    "skills"
   ]
  },
  {
   "cell_type": "code",
   "execution_count": 10,
   "id": "559ed04c",
   "metadata": {},
   "outputs": [],
   "source": [
    "from sklearn.feature_extraction.text import CountVectorizer\n",
    "cv = CountVectorizer(max_features=50,stop_words='english')\n",
    "    "
   ]
  },
  {
   "cell_type": "code",
   "execution_count": 11,
   "id": "3ed8e21b",
   "metadata": {},
   "outputs": [],
   "source": [
    "vector=cv.fit_transform(skills['skllis']).toarray()"
   ]
  },
  {
   "cell_type": "code",
   "execution_count": 12,
   "id": "4381d7cf",
   "metadata": {},
   "outputs": [
    {
     "data": {
      "text/plain": [
       "(5, 39)"
      ]
     },
     "execution_count": 12,
     "metadata": {},
     "output_type": "execute_result"
    }
   ],
   "source": [
    "vector.shape"
   ]
  },
  {
   "cell_type": "code",
   "execution_count": 13,
   "id": "8c33db03",
   "metadata": {},
   "outputs": [],
   "source": [
    "from sklearn.metrics.pairwise import cosine_similarity"
   ]
  },
  {
   "cell_type": "code",
   "execution_count": 14,
   "id": "dad51a23",
   "metadata": {},
   "outputs": [],
   "source": [
    "similarity = cosine_similarity(vector)"
   ]
  },
  {
   "cell_type": "code",
   "execution_count": 15,
   "id": "fd6cbb3e",
   "metadata": {},
   "outputs": [
    {
     "data": {
      "text/plain": [
       "array([[1.        , 0.34815531, 0.76277007, 0.05698029, 0.        ],\n",
       "       [0.34815531, 1.        , 0.27386128, 0.21821789, 0.        ],\n",
       "       [0.76277007, 0.27386128, 1.        , 0.05976143, 0.        ],\n",
       "       [0.05698029, 0.21821789, 0.05976143, 1.        , 0.        ],\n",
       "       [0.        , 0.        , 0.        , 0.        , 1.        ]])"
      ]
     },
     "execution_count": 15,
     "metadata": {},
     "output_type": "execute_result"
    }
   ],
   "source": [
    "similarity"
   ]
  },
  {
   "cell_type": "code",
   "execution_count": 16,
   "id": "dbef3740",
   "metadata": {},
   "outputs": [],
   "source": [
    "def recommend(name):\n",
    "    index=skills[skills['names']==name].index[0]\n",
    "    distances = sorted(list(enumerate(similarity[index])),reverse=True,key = lambda x: x[1])\n",
    "    for i in distances[1:2]:\n",
    "        print(skills.iloc[i[0]].names)\n",
    "        "
   ]
  },
  {
   "cell_type": "code",
   "execution_count": 17,
   "id": "3d76acfe",
   "metadata": {},
   "outputs": [
    {
     "name": "stdout",
     "output_type": "stream",
     "text": [
      "Sachin Bhaskar Patil\n"
     ]
    }
   ],
   "source": [
    "c=print(skills['names'].iloc[0])\n",
    "c"
   ]
  },
  {
   "cell_type": "code",
   "execution_count": 19,
   "id": "55267a98",
   "metadata": {},
   "outputs": [
    {
     "name": "stdout",
     "output_type": "stream",
     "text": [
      "Data science And Engineering\n"
     ]
    }
   ],
   "source": [
    "recommend(\"Sachin Bhaskar Patil\")"
   ]
  }
 ],
 "metadata": {
  "kernelspec": {
   "display_name": "Python 3 (ipykernel)",
   "language": "python",
   "name": "python3"
  },
  "language_info": {
   "codemirror_mode": {
    "name": "ipython",
    "version": 3
   },
   "file_extension": ".py",
   "mimetype": "text/x-python",
   "name": "python",
   "nbconvert_exporter": "python",
   "pygments_lexer": "ipython3",
   "version": "3.10.1"
  }
 },
 "nbformat": 4,
 "nbformat_minor": 5
}
